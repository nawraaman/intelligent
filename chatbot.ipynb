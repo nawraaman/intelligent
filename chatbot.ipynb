{
  "nbformat": 4,
  "nbformat_minor": 0,
  "metadata": {
    "colab": {
      "provenance": [],
      "authorship_tag": "ABX9TyPK2xhwwcUzq+l2jZKL7WKz",
      "include_colab_link": true
    },
    "kernelspec": {
      "name": "python3",
      "display_name": "Python 3"
    },
    "language_info": {
      "name": "python"
    }
  },
  "cells": [
    {
      "cell_type": "markdown",
      "metadata": {
        "id": "view-in-github",
        "colab_type": "text"
      },
      "source": [
        "<a href=\"https://colab.research.google.com/github/nawraaman/intelligent/blob/main/chatbot.ipynb\" target=\"_parent\"><img src=\"https://colab.research.google.com/assets/colab-badge.svg\" alt=\"Open In Colab\"/></a>"
      ]
    },
    {
      "cell_type": "code",
      "execution_count": null,
      "metadata": {
        "id": "DxssbOFwekiU"
      },
      "outputs": [],
      "source": [
        "import nltk\n",
        "from nltk.stem import WordNetLemmatizer\n",
        "from nltk.chat.util import Chat, reflections\n",
        "from nltk.tokenize import word_tokenize\n",
        "import numpy\n",
        "import random\n",
        "\n"
      ]
    },
    {
      "cell_type": "code",
      "source": [
        "# @title Initialize the WordNetLemmatizer\n",
        "Lemmatizer = WordNetLemmatizer()"
      ],
      "metadata": {
        "id": "uixYiGDih7wP"
      },
      "execution_count": null,
      "outputs": []
    },
    {
      "cell_type": "code",
      "source": [
        "pairs = [\n",
        "    [\n",
        "        r\"hi|hey|hello\",\n",
        "        [\"Hello\", \"Hey there\"]\n",
        "    ],\n",
        "    [\n",
        "        r\"quit\",\n",
        "        [\"Bye, take care. It was nice talking to you!\"]\n",
        "    ],\n",
        "]"
      ],
      "metadata": {
        "id": "_8-B-FSdoG34"
      },
      "execution_count": null,
      "outputs": []
    },
    {
      "cell_type": "code",
      "source": [
        "def chatbot():\n",
        "    print(\"Hi, I'm your chatbot! How can I assist you today?\")\n",
        "    chat = Chat(pairs, reflections)\n",
        "    chat.converse()"
      ],
      "metadata": {
        "id": "ZFxGj4VZsGAT"
      },
      "execution_count": null,
      "outputs": []
    },
    {
      "cell_type": "code",
      "source": [
        "if __name__ == \"__main__\":\n",
        "    chatbot()"
      ],
      "metadata": {
        "id": "iwGZ-hH6sG_1"
      },
      "execution_count": null,
      "outputs": []
    }
  ]
}