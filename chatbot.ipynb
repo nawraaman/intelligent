{
  "nbformat": 4,
  "nbformat_minor": 0,
  "metadata": {
    "colab": {
      "provenance": [],
      "authorship_tag": "ABX9TyOA7nCGM41bKDoMOe9OqcQy",
      "include_colab_link": true
    },
    "kernelspec": {
      "name": "python3",
      "display_name": "Python 3"
    },
    "language_info": {
      "name": "python"
    }
  },
  "cells": [
    {
      "cell_type": "markdown",
      "metadata": {
        "id": "view-in-github",
        "colab_type": "text"
      },
      "source": [
        "<a href=\"https://colab.research.google.com/github/nawraaman/intelligent/blob/main/chatbot.ipynb\" target=\"_parent\"><img src=\"https://colab.research.google.com/assets/colab-badge.svg\" alt=\"Open In Colab\"/></a>"
      ]
    },
    {
      "cell_type": "code",
      "source": [
        "pip install pyspellchecker\n"
      ],
      "metadata": {
        "colab": {
          "base_uri": "https://localhost:8080/"
        },
        "id": "7PSGod5dGLOb",
        "outputId": "15f66174-5385-4378-f89a-9a34f420848b"
      },
      "execution_count": 2,
      "outputs": [
        {
          "output_type": "stream",
          "name": "stdout",
          "text": [
            "Collecting pyspellchecker\n",
            "  Downloading pyspellchecker-0.7.2-py3-none-any.whl (3.4 MB)\n",
            "\u001b[2K     \u001b[90m━━━━━━━━━━━━━━━━━━━━━━━━━━━━━━━━━━━━━━━━\u001b[0m \u001b[32m3.4/3.4 MB\u001b[0m \u001b[31m11.0 MB/s\u001b[0m eta \u001b[36m0:00:00\u001b[0m\n",
            "\u001b[?25hInstalling collected packages: pyspellchecker\n",
            "Successfully installed pyspellchecker-0.7.2\n"
          ]
        }
      ]
    },
    {
      "cell_type": "code",
      "source": [
        "# Ensure to download the necessary resources for NLTK\n",
        "nltk.download('punkt')\n",
        "nltk.download('wordnet')"
      ],
      "metadata": {
        "colab": {
          "base_uri": "https://localhost:8080/"
        },
        "id": "OVWbaopETnA2",
        "outputId": "24723f94-cb56-4d10-b73f-575340942a28"
      },
      "execution_count": 4,
      "outputs": [
        {
          "output_type": "stream",
          "name": "stderr",
          "text": [
            "[nltk_data] Downloading package punkt to /root/nltk_data...\n",
            "[nltk_data]   Unzipping tokenizers/punkt.zip.\n",
            "[nltk_data] Downloading package wordnet to /root/nltk_data...\n"
          ]
        },
        {
          "output_type": "execute_result",
          "data": {
            "text/plain": [
              "True"
            ]
          },
          "metadata": {},
          "execution_count": 4
        }
      ]
    },
    {
      "cell_type": "code",
      "execution_count": 8,
      "metadata": {
        "colab": {
          "base_uri": "https://localhost:8080/"
        },
        "id": "PHJSnXbITC1D",
        "outputId": "09a575ce-9095-4127-be74-0906c5421b39"
      },
      "outputs": [
        {
          "name": "stdout",
          "output_type": "stream",
          "text": [
            "Lemmatizer: <WordNetLemmatizer>\n",
            "Hi, I am your chatbot! And I can help you choose your major \n",
            "\n",
            "Here are some suggested questions... \n",
            "\n",
            "What are the current trend majors?  \n",
            "\n",
            "I like studying practical subjects, What are the most suitable majors for me?  \n",
            "\n",
            "I do not enjoy memorizing a lot, therefore what is the best major for my situation? \n",
            "\n",
            "You: What are the current trend majors?\n",
            "Lemmatized Token: What\n",
            "Lemmatized Token: are\n",
            "Lemmatized Token: the\n",
            "Lemmatized Token: current\n",
            "Lemmatized Token: trend\n",
            "Lemmatized Token: major\n",
            "Lemmatized Token: ?\n",
            "Did you mean: What are the current trend major ?\n",
            "Chatbot: IT Computer Science, Businnes Accounting, Engineering Interior Design\n",
            "You: exit\n"
          ]
        }
      ],
      "source": [
        "import nltk\n",
        "from nltk.chat.util import Chat, reflections\n",
        "from nltk.stem import WordNetLemmatizer\n",
        "from nltk.tokenize import word_tokenize\n",
        "from spellchecker import SpellChecker\n",
        "\n",
        "\n",
        "# Initialize the lemmatizer\n",
        "lemmatizer = WordNetLemmatizer()\n",
        "\n",
        "print(\"Lemmatizer:\", lemmatizer)\n",
        "# Initialize the spell checker\n",
        "spell = SpellChecker()\n",
        "\n",
        "# Define the chat pairs\n",
        "pairs = [\n",
        "        [\n",
        "        r\"hi|hey|hello\",\n",
        "        [\"Hello\", \"Hey there\"]\n",
        "    ],\n",
        "    [\n",
        "        r\"quit\",\n",
        "        [\"Bye, take care. It was nice talking to you!\"]\n",
        "    ],\n",
        "    [\n",
        "        r\"I am Science major, and I want to know what majors are available for me? | I am science major\",\n",
        "        [\"All majors in the College of Arts, Business Administration, Information Technology, Science, Law, Enginnering and Health Sciences.\"]\n",
        "    ],\n",
        "     [\n",
        "         r\"I am Commercial major, and I want to know what majors are available for me? | I am Commercial major \",\n",
        "          [\"All majors in the College of Arts, Business Administration, and Law. Only a B.Sc in Information Systems from the College of Information Technology.\"]\n",
        "     ],\n",
        "      [\n",
        "         r\"I am Literary major, and I want to know what majors are available for me? | I am Literary major\",\n",
        "         [\"All majors in the College of Arts, Business Administration, and Law. Only a B.Sc. in Physical Education from the College of Health Sciences.\"]\n",
        "     ],\n",
        "         [\n",
        "         r\"I enjoy working with numbers.\",\n",
        "         [\"Great! Have you considered majors like Mathematics, Statistics, or Economics\"]\n",
        "     ],\n",
        "      [\n",
        "          r\"What are the admission requirements for the Science major?\",\n",
        "           [\"The admission requirements for the Science major include a minimum GPA of 85%\"]\n",
        "          ],\n",
        "          [\n",
        "          r\"What are the admission requirements for the Engineering major?\",\n",
        "           [\"The admission requirements for the Engineering major include a minimum GPA of 90%\"]\n",
        "          ],\n",
        "        [\n",
        "          r\"What are the admission requirements for the Computer Science major?\",\n",
        "           [\"The admission requirements for the Computer Science major include a minimum GPA of 90%\"]\n",
        "          ],\n",
        "\n",
        "         [\n",
        "              r\"What are the job prospects for Computer Science majors?\",\n",
        "          [\"Computer Science majors have excellent job prospects, with opportunities in software development, data analysis, cybersecurity, and more.\"]\n",
        "                  ],\n",
        "         [\n",
        "             r\"How long does it take to complete the Engineering program?\",\n",
        "          [\"The duration of the Engineering program varies depending on the specific branch, but it typically takes four to five years to complete.\"]\n",
        "                  ],\n",
        "            [\n",
        "                r\"What extracurricular activities are available for Business Administration students?\",\n",
        "             [\"Business Administration students can participate in entrepreneurship clubs, networking events, case competitions, and internships.\"]\n",
        "                     ],\n",
        "      [\n",
        "        r\"Can I switch majors after starting my studies?\",\n",
        "        [\"Yes, it is possible to switch majors, but it may require meeting certain requirements and consulting with academic advisors.\"]\n",
        "    ],\n",
        "    [\n",
        "        r\"What scholarships are available for students in the College of Arts?\",\n",
        "        [\"The College of Arts offers various scholarships, including merit-based scholarships, need-based scholarships, and specific scholarships for certain majors.\"]\n",
        "    ],\n",
        "\n",
        "     [\n",
        "         r\"What are the current trend majors?\",\n",
        "         [\"IT Computer Science, Businnes Accounting, Engineering Interior Design\"]\n",
        "     ],\n",
        "\n",
        "    [\n",
        "            r\"What are the study abroad opportunities for students in the College of Engineering?\",\n",
        "     [\"The College of Engineering offers study abroad programs in partnership with universities around the world, providing opportunities for international experience and cultural exchange.\"]\n",
        "             ],\n",
        "              [\n",
        "                   r\"What research opportunities are available for students in the College of Science?\",\n",
        "                    [\"The College of Science offers research opportunities in various fields, allowing students to work with faculty members on cutting-edge projects and gain valuable research experience.\"]\n",
        "                     ],\n",
        "         [        r\"What internship opportunities are available for students in the College of Business Administration?\",\n",
        "          [\"The College of Business Administration has partnerships with companies and organizations, providing internship opportunities for students to gain practical industry experience.\"]\n",
        "                  ],    [\n",
        "        r\"What are the resources available for career development in the College of Information Technology?\",\n",
        "        [\"The College of Information Technology offers career development resources such as career fairs, workshops, networking events, and connections with industry professionals.\"]\n",
        "    ],\n",
        "    [\n",
        "        r\"What are the facilities and labs available for students in the College of Health Sciences?\",\n",
        "        [\"The College of Health Sciences has state-of-the-art facilities and labs, including simulation labs, research labs, and specialized equipment for hands-on learning and practical training.\"]\n",
        "    ]\n",
        "]\n",
        "\n",
        "# Create the chatbot\n",
        "chatbot = Chat(pairs, reflections)\n",
        "\n",
        "# Define a function to preprocess user input\n",
        "def preprocess_input(input_text):\n",
        "    # Tokenize the input text\n",
        "    tokens = word_tokenize(input_text)\n",
        "\n",
        "    # Lemmatize the tokens\n",
        "    lemmatized_tokens = [lemmatizer.lemmatize(token) for token in tokens]\n",
        "\n",
        "    # Correct spelling errors\n",
        "    corrected_tokens = [spell.correction(token) for token in lemmatized_tokens]\n",
        "\n",
        "    # Join the corrected tokens back into a string\n",
        "    preprocessed_text = \" \".join(corrected_tokens)\n",
        "\n",
        "    for i in range(len(lemmatized_tokens)):\n",
        "      print(f\"Lemmatized Token: {lemmatized_tokens[i]}\")\n",
        "\n",
        "    return preprocessed_text\n",
        "\n",
        "\n",
        "print(\"Hi, I am your chatbot! And I can help you choose your major \\n\")\n",
        "print(\"Here are some suggested questions... \\n\")\n",
        "print(\"What are the current trend majors?  \\n\")\n",
        "print(\"I like studying practical subjects, What are the most suitable majors for me?  \\n\")\n",
        "print(\"I do not enjoy memorizing a lot, therefore what is the best major for my situation? \\n\")\n",
        "print(\"Type exit to quit the program\\n\")\n",
        "\n",
        "# Define a function to get a response from the chatbot\n",
        "def get_response(user_input):\n",
        "    preprocessed_input = preprocess_input(user_input)\n",
        "    response = chatbot.respond(preprocessed_input)\n",
        "    return response, preprocessed_input\n",
        "\n",
        "# Main loop\n",
        "\n",
        "\n",
        "while True:\n",
        "    user_input = input(\"You: \")\n",
        "    if user_input.lower() == \"quit\":\n",
        "        break\n",
        "\n",
        "    response, corrected_input = get_response(user_input)\n",
        "    print(\"Did you mean:\", corrected_input)\n",
        "    print(\"Chatbot:\", response)"
      ]
    }
  ]
}