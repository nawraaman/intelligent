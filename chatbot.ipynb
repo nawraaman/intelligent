{
  "nbformat": 4,
  "nbformat_minor": 0,
  "metadata": {
    "colab": {
      "provenance": [],
      "include_colab_link": true
    },
    "kernelspec": {
      "name": "python3",
      "display_name": "Python 3"
    },
    "language_info": {
      "name": "python"
    }
  },
  "cells": [
    {
      "cell_type": "markdown",
      "metadata": {
        "id": "view-in-github",
        "colab_type": "text"
      },
      "source": [
        "<a href=\"https://colab.research.google.com/github/nawraaman/intelligent/blob/main/chatbot.ipynb\" target=\"_parent\"><img src=\"https://colab.research.google.com/assets/colab-badge.svg\" alt=\"Open In Colab\"/></a>"
      ]
    },
    {
      "cell_type": "code",
      "execution_count": 35,
      "metadata": {
        "id": "DxssbOFwekiU",
        "colab": {
          "base_uri": "https://localhost:8080/"
        },
        "outputId": "29f6b799-5d96-4c25-d718-68024ea55ab0"
      },
      "outputs": [
        {
          "output_type": "stream",
          "name": "stderr",
          "text": [
            "[nltk_data] Downloading package punkt to /root/nltk_data...\n",
            "[nltk_data]   Package punkt is already up-to-date!\n",
            "[nltk_data] Downloading package wordnet to /root/nltk_data...\n",
            "[nltk_data]   Package wordnet is already up-to-date!\n"
          ]
        },
        {
          "output_type": "stream",
          "name": "stdout",
          "text": [
            "Hi, I am your chatbot! And I can help you choose your major \n",
            "\n",
            "Here are some suggested questions... \n",
            "\n",
            "What are the current trend majors?  \n",
            "\n",
            "I like studying practical subjects, What are the most suitable majors for me?  \n",
            "\n",
            "I do not enjoy memorizing a lot, therefore what is the best major for my situation? \n",
            "\n",
            "You: quit\n",
            "Exiting the chatbot...\n"
          ]
        }
      ],
      "source": [
        "import nltk\n",
        "from nltk.stem import WordNetLemmatizer\n",
        "from nltk.chat.util import Chat, reflections\n",
        "\n",
        "# Ensure to download the necessary resources for NLTK\n",
        "nltk.download('punkt')\n",
        "nltk.download('wordnet')\n",
        "\n",
        "# Initialize the WordNet Lemmatizer\n",
        "lemmatizer = WordNetLemmatizer()\n",
        "\n",
        "# Define the patterns and responses\n",
        "pairs = [\n",
        "    [\n",
        "        r\"hi|hey|hello\",\n",
        "        [\"Hello!\", \"Hey there!\", \"Hi!\"]\n",
        "    ],\n",
        "    [\n",
        "        r\"quit\",\n",
        "        [\"Bye, take care. It was nice talking to you!\"]\n",
        "    ],\n",
        "    [\n",
        "        r\"I am Science major, and I want to know what majors are available for me?\",\n",
        "        [\"All majors in the College of Arts, Business Administration, Information Technology, Science, Law, Engineering and Health Sciences.\"]\n",
        "    ],\n",
        "    [\n",
        "        r\"I am Commercial major, and I want to know what majors are available for me?\",\n",
        "        [\"All majors in the College of Arts, Business Administration, and Law. Only a B.Sc in Information Systems from the College of Information Technology.\"]\n",
        "    ],\n",
        "    [\n",
        "        r\"I am Literary major, and I want to know what majors are available for me?\",\n",
        "        [\"All majors in the College of Arts, Business Administration, and Law. Only a B.Sc. in Physical Education from the College of Health Sciences.\"]\n",
        "    ],\n",
        "    [\n",
        "        r\"What are the current trend majors?\",\n",
        "        [\"IT Computer Science, Business Accounting, Engineering Interior Design\"]\n",
        "    ]\n",
        "]\n",
        "\n",
        "def lemmatize_input(user_input):\n",
        "    words = nltk.word_tokenize(user_input)\n",
        "    lemmatized_words = [lemmatizer.lemmatize(word) for word in words]\n",
        "    return \" \".join(lemmatized_words)\n",
        "\n",
        "def chatbot():\n",
        "    print(\"Hi, I am your chatbot! And I can help you choose your major \\n\")\n",
        "    print(\"Here are some suggested questions... \\n\")\n",
        "    print(\"What are the current trend majors?  \\n\")\n",
        "    print(\"I like studying practical subjects, What are the most suitable majors for me?  \\n\")\n",
        "    print(\"I do not enjoy memorizing a lot, therefore what is the best major for my situation? \\n\")\n",
        "\n",
        "    chat = Chat(pairs, reflections)\n",
        "\n",
        "    while True:\n",
        "        user_input = input(\"You: \")\n",
        "        if user_input.lower() == 'quit':\n",
        "            print(\"Exiting the chatbot...\")\n",
        "            break\n",
        "\n",
        "        # Lemmatize the user input\n",
        "        lemmatized_input = lemmatize_input(user_input)\n",
        "\n",
        "        # Get the response using the lemmatized input\n",
        "        response = chat.respond(lemmatized_input)\n",
        "        print(\"Bot:\", response)\n",
        "\n",
        "if __name__ == \"__main__\":\n",
        "    chatbot()"
      ]
    }
  ]
}