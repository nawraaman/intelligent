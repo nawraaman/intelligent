{
  "nbformat": 4,
  "nbformat_minor": 0,
  "metadata": {
    "colab": {
      "provenance": [],
      "include_colab_link": true
    },
    "kernelspec": {
      "name": "python3",
      "display_name": "Python 3"
    },
    "language_info": {
      "name": "python"
    }
  },
  "cells": [
    {
      "cell_type": "markdown",
      "metadata": {
        "id": "view-in-github",
        "colab_type": "text"
      },
      "source": [
        "<a href=\"https://colab.research.google.com/github/nawraaman/intelligent/blob/main/chatbot.ipynb\" target=\"_parent\"><img src=\"https://colab.research.google.com/assets/colab-badge.svg\" alt=\"Open In Colab\"/></a>"
      ]
    },
    {
      "cell_type": "code",
      "execution_count": 2,
      "metadata": {
        "id": "DxssbOFwekiU"
      },
      "outputs": [],
      "source": [
        "import nltk\n",
        "from nltk.stem import WordNetLemmatizer\n",
        "from nltk.chat.util import Chat, reflections\n",
        "from nltk.tokenize import word_tokenize\n",
        "import numpy\n",
        "import random\n",
        "\n"
      ]
    },
    {
      "cell_type": "code",
      "source": [],
      "metadata": {
        "id": "uixYiGDih7wP"
      },
      "execution_count": 11,
      "outputs": []
    },
    {
      "cell_type": "code",
      "source": [
        "pairs = [\n",
        "    [\n",
        "        r\"hi|hey|hello\",\n",
        "        [\"Hello\", \"Hey there\"]\n",
        "    ],\n",
        "    [\n",
        "        r\"quit\",\n",
        "        [\"Bye, take care. It was nice talking to you!\"]\n",
        "    ],\n",
        "    [\n",
        "        r\"I am Science major, and I want to know what majors are available for me?\",\n",
        "        [\"All majors in the College of Arts, Business Administration, Information Technology, Science, Law, Enginnering and Health Sciences.\"]\n",
        "    ],\n",
        "     [\n",
        "         r\"I am Commercial major, and I want to know what majors are available for me?\",\n",
        "          [\"All majors in the College of Arts, Business Administration, and Law. Only a B.Sc in Information Systems from the Co llege of Information Technology.\"]\n",
        "     ],\n",
        "      [\n",
        "         r\"I am Literary major, and I want to know what majors are available for me?\",\n",
        "         [\"All majors in the College of Arts, Business Administration, and Law. Only a B.Sc. in Physical Education from the College of Health Sciences.\"]\n",
        "     ],\n",
        "     [\n",
        "         r\"What are the current trend majors??\",\n",
        "         [\"IT Computer Science, Businnes Accounting, Engineering Interior Design\"]\n",
        "     ]\n",
        "]"
      ],
      "metadata": {
        "id": "_8-B-FSdoG34"
      },
      "execution_count": 8,
      "outputs": []
    },
    {
      "cell_type": "code",
      "source": [
        "def chatbot():\n",
        "    print(\"Hi, I am your chatbot! And I can help you choose your major \\n\")\n",
        "    print(\"Here are some suggested questions... \\n\")\n",
        "    print(\"What are the current trend majors?  \\n\")\n",
        "    print(\"I like studying practical subjects, What are the most suitable majors for me?  \\n\")\n",
        "    print(\"I do not enjoy memorizing a lot, therefore what is the best major for my situation? \\n\")\n",
        "\n",
        "    #taking input from the user\n",
        "    user_input = input()\n",
        "\n",
        "    #tokinize the input\n",
        "    tokens = word_tokenize(user_input)\n",
        "\n",
        "    # @title Initialize the WordNetLemmatizer\n",
        "    Lemmatizer = WordNetLemmatizer()\n",
        "\n",
        "    # Lemmatize each word\n",
        "    lemmatized_tokens = [Lemmatizer.lemmatize(token) for token in tokens]\n",
        "\n",
        "\n",
        "\n",
        "    chat = Chat(pairs, reflections)\n",
        "    chat.converse()"
      ],
      "metadata": {
        "id": "ZFxGj4VZsGAT"
      },
      "execution_count": 6,
      "outputs": []
    },
    {
      "cell_type": "code",
      "source": [
        "if __name__ == \"__main__\":\n",
        "    chatbot()"
      ],
      "metadata": {
        "id": "iwGZ-hH6sG_1",
        "colab": {
          "base_uri": "https://localhost:8080/"
        },
        "outputId": "13d633ba-ac74-4b67-f36c-b1ad1c70ec05"
      },
      "execution_count": 10,
      "outputs": [
        {
          "output_type": "stream",
          "name": "stdout",
          "text": [
            "Hi, I am your chatbot! And I can help you choose your major \n",
            "\n",
            "Here are some suggested questions... \n",
            "\n",
            "What are the current trend majors?  \n",
            "\n",
            "I like studying practical subjects, What are the most suitable majors for me?  \n",
            "\n",
            "I do not enjoy memorizing a lot, therefore what is the best major for my situation? \n",
            "\n",
            ">quit\n",
            "Bye, take care. It was nice talking to you!\n"
          ]
        }
      ]
    }
  ]
}